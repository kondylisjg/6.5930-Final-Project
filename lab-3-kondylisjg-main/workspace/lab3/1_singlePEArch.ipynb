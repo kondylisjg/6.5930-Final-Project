{
 "cells": [
  {
   "cell_type": "markdown",
   "metadata": {},
   "source": [
    "# Your name: Joanna Kondylis"
   ]
  },
  {
   "cell_type": "code",
   "execution_count": 1,
   "metadata": {
    "pycharm": {
     "is_executing": false
    }
   },
   "outputs": [],
   "source": [
    "import pandas as pd\n",
    "import numpy as np\n",
    "from loaders import *"
   ]
  },
  {
   "cell_type": "markdown",
   "metadata": {},
   "source": [
    "## Part 1: Single PE Modeling\n",
    "We will start with a simple design consisting of a single PE as shown in the figure below. The PE contains a MAC unit to do multiplication and accumulation, and a scratchpad to store data locally for reuse. We also provide you with the loop nest for this single PE design in the figure below.\n",
    "\n",
    "<br>\n",
    "<div class=\"row\">\n",
    "  <div class=\"column\">\n",
    "    <img align=\"left\" src=\"designs/singlePE/figures/PE_arch.png\" alt=\"PE Architecture\" style=\"margin:100px 0px 30px 70px; width:35%\">\n",
    "  </div>\n",
    "  <div class=\"column\">\n",
    "    <img  align=\"left\"  src=\"designs/singlePE/figures/PE_loopnest.png\" alt=\"PE Loopnest\" style=\"width:40%\">\n",
    "  </div>\n",
    "</div>"
   ]
  },
  {
   "cell_type": "markdown",
   "metadata": {},
   "source": [
    "## Question 1 Introduction"
   ]
  },
  {
   "cell_type": "markdown",
   "metadata": {},
   "source": [
    "### Question 1.1\n",
    "Assuming you cannot reorder the provided loop nest, if you can only store one datatype (datatypes inlcude *filter weights, input activations, output activations*) inside the PE scratchpad to maximize data reuse inside the PE, which datatye will you choose? In 1 or 2 sentences, explain why.\n",
    "\n",
    "\n",
    "**Answer**\n",
    "In order to maximize data reuse inside the PE, store the filter weight. This would make the system weight stationary.\n",
    "\n",
    "\n"
   ]
  },
  {
   "cell_type": "markdown",
   "metadata": {},
   "source": [
    "### Question 1.2 \n",
    "#### 1.2.1\n",
    "Take a look at the `SINGLE_PE_ARCH` config. This config describes the hardware structure of the architecture. Please fill in the chart below:\n",
    "\n",
    "*Hint: the operand registers of the mac unit belong to the same memory level*"
   ]
  },
  {
   "cell_type": "code",
   "execution_count": null,
   "metadata": {},
   "outputs": [],
   "source": [
    "show_config(ConfigRegistry.SINGLE_PE_ARCH)"
   ]
  },
  {
   "cell_type": "code",
   "execution_count": 2,
   "metadata": {
    "pycharm": {
     "is_executing": false
    }
   },
   "outputs": [
    {
     "name": "stdout",
     "output_type": "stream",
     "text": [
      " # of memory levels (including DRAM and registers)    # of bits used to represent a data    size of local scrachpad (bytes)\n",
      "                        3                                            16                                  36                \n"
     ]
    }
   ],
   "source": [
    "# the Question 1.2.1 chart\n",
    "d = {'# of memory levels (including DRAM and registers)': [3],   # fill in your answer here\n",
    "     '  # of bits used to represent a data': [16],                # fill in your answer here\n",
    "     '  size of local scrachpad (bytes)': [36],                   # fill in your answer here\n",
    "    }\n",
    "df = pd.DataFrame(data=d)\n",
    "print(df.to_string(index=False, justify='center'))"
   ]
  },
  {
   "cell_type": "markdown",
   "metadata": {},
   "source": [
    "Take a look at the compound component descriptions at `designs/singlePE/arch/components`. These files describe the hardware details of each component in the design."
   ]
  },
  {
   "cell_type": "code",
   "execution_count": null,
   "metadata": {},
   "outputs": [],
   "source": [
    "show_config(\n",
    "    ConfigRegistry.SINGLE_PE_COMPONENTS_DIR\n",
    ")"
   ]
  },
  {
   "cell_type": "markdown",
   "metadata": {},
   "source": [
    "#### 1.2.2\n",
    "Are these compound components composed of single subcomponent or multiple subcomponents?\n",
    "   \n",
    "\n",
    "**Answer** These compound components are composed of a single subcomponent.\n",
    "\n",
    "   \n",
    "   \n",
    "#### 1.2.3\n",
    "According to description of the `mac_compute` compound component, is our architecture capable of performing floating point computations? In 1 or 2 sentences, explain why.\n",
    "\n",
    "\n",
    "**Answer** Type is intmac so our architecture is not capable of performing floating point computations.\n",
    "\n"
   ]
  },
  {
   "cell_type": "markdown",
   "metadata": {},
   "source": [
    "### Question 1.3\n",
    "The command below performs static hardware charaterizations using **Accelergy**. You do not need to worry about the warning messages.\n",
    "\n",
    "Examine the file `designs/singlePE/output/ERT.yaml`. Please fill in the chart below (**note that the implicit energy unit for the ERT is pJ**)"
   ]
  },
  {
   "cell_type": "code",
   "execution_count": null,
   "metadata": {
    "scrolled": false
   },
   "outputs": [],
   "source": [
    "result = run_accelergy(ConfigRegistry.SINGLE_PE_ARCH, ConfigRegistry.SINGLE_PE_COMPONENTS_DIR)\n",
    "# The energy reference table (ERT) is the one used to compute energy.\n",
    "print(result.ert)\n",
    "\n",
    "# The verbose energy reference table shows more information. You don't need it here but later in Q1.6\n",
    "# print(result.ert_verbose)"
   ]
  },
  {
   "cell_type": "code",
   "execution_count": 3,
   "metadata": {
    "pycharm": {
     "is_executing": false
    }
   },
   "outputs": [
    {
     "name": "stdout",
     "output_type": "stream",
     "text": [
      " DRAM read   DRAM write   scrachpad read   scrachpad write   mac compute\n",
      "   512         512           0.2256            0.2256          3.275    \n"
     ]
    }
   ],
   "source": [
    "# the Question 1.3 chart\n",
    "d = {'DRAM read': [512],           # fill in your answer here\n",
    "     ' DRAM write': [512],         # fill in your answer here\n",
    "     ' scrachpad read': [0.2256],     # fill in your answer here\n",
    "     ' scrachpad write': [0.2256],    # fill in your answer here\n",
    "     ' mac compute': [3.275],        # fill in your answer here\n",
    "    }\n",
    "df = pd.DataFrame(data=d)\n",
    "print(df.to_string(index=False, justify='center'))"
   ]
  },
  {
   "cell_type": "markdown",
   "metadata": {},
   "source": [
    "### Question 1.4 \n",
    "\n",
    "Take a look at the `SINGLE_PE_MAP` config. This config describes a mapping for a certain workload. By examining the mapping, can you tell what are the values of `M0`, `N0`, `C0`, `R`, `S`, `P`, `Q` in the loop nest above? For each of them, if you can, specifiy the value in the following chart; if you can't, state why in this cell. \n",
    "\n",
    "\n",
    "**Answer**\n",
    "\n",
    "The M0 value is specified in the chart. For the remaining values, we have 'nan'. We cannot tell when the values are of for the remaining loop nest (P, Q, R, S). \n",
    "\n",
    "Under \"mapping for the local scratchpad inside the PE\" we have that R=0 S=0 P=0 Q=0 and each value traverses [0, x). So we cannot determine the exact value."
   ]
  },
  {
   "cell_type": "markdown",
   "metadata": {},
   "source": [
    "**A note on Timeloop mapping conventions**\n",
    "\n",
    "Permutation is the order of the loops from inner to outer. For example, permutation QPS and factors `Q=5`, `P=2`, and `S=4` means the following loop nest.\n",
    "```\n",
    "for s in [0, 4):\n",
    " for p in [0, 2):\n",
    "  for q in [0, 5):\n",
    "   ...\n",
    "```\n",
    "\n",
    "A buffer level can also have bypass specification. For example, an output buffer with `keep=[Output]` and `bypass=[Weights, Input]` will store only the `Output` tensor."
   ]
  },
  {
   "cell_type": "code",
   "execution_count": null,
   "metadata": {},
   "outputs": [],
   "source": [
    "show_config(ConfigRegistry.SINGLE_PE_MAP)"
   ]
  },
  {
   "cell_type": "code",
   "execution_count": 4,
   "metadata": {
    "pycharm": {
     "is_executing": false
    }
   },
   "outputs": [
    {
     "name": "stdout",
     "output_type": "stream",
     "text": [
      " M0  N0  C0  S   R   P   Q \n",
      " 2  nan nan nan nan nan nan\n"
     ]
    }
   ],
   "source": [
    "# the Question 1.4 chart, put down nan if you cannot tell what the value is \n",
    "d = {'M0': [2],   # fill in your answer here\n",
    "     'N0': ['nan'],   # fill in your answer here\n",
    "     'C0': ['nan'],   # fill in your answer here\n",
    "     'S':  ['nan'],   # fill in your answer here\n",
    "     'R':  ['nan'],   # fill in your answer here\n",
    "     'P':  ['nan'],   # fill in your answer here\n",
    "     'Q':  ['nan']    # fill in your answer here\n",
    "    }\n",
    "df = pd.DataFrame(data=d)\n",
    "print(df.to_string(index=False, justify='center'))"
   ]
  },
  {
   "cell_type": "markdown",
   "metadata": {},
   "source": [
    "### Question 1.5\n",
    "The command below performs **Timeloop** runtime simulation of your design, and **Accelergy** is queried as the backend to provide energy estimations for each simulated component (that's why you will see the Accelergy related outputs as well (*e.g.,* `timeloop-model.ERT.yaml`))"
   ]
  },
  {
   "cell_type": "code",
   "execution_count": null,
   "metadata": {
    "scrolled": false
   },
   "outputs": [],
   "source": [
    "small_layer_stats, small_layer_mapping = run_timeloop_model(\n",
    "    ConfigRegistry.SINGLE_PE_ARCH, ConfigRegistry.SINGLE_PE_COMPONENTS_DIR,\n",
    "    ConfigRegistry.SINGLE_PE_MAP,\n",
    "    ConfigRegistry.SMALL_LAYER_PROB\n",
    ")"
   ]
  },
  {
   "cell_type": "code",
   "execution_count": null,
   "metadata": {},
   "outputs": [],
   "source": [
    "print(small_layer_mapping)"
   ]
  },
  {
   "cell_type": "code",
   "execution_count": null,
   "metadata": {},
   "outputs": [],
   "source": [
    "print(small_layer_stats)"
   ]
  },
  {
   "cell_type": "markdown",
   "metadata": {},
   "source": [
    "#### 1.5.1\n",
    "Take a look at `small_layer_mapping`, can you now tell the dimensions of the layer shape by looking at the produced mapping? In 1 or 2 sentences, explain why. Take a look at the `small_layer_stats`, and fill in the chart in the code cell below.\n",
    "\n",
    "\n",
    "**Answer**\n",
    "\n",
    "Yes, you can now tell the dimensions of the layer shape by looking at the produced mapping. Because it explicitly shows the loop values for R, S, P, Q."
   ]
  },
  {
   "cell_type": "markdown",
   "metadata": {},
   "source": [
    "#### 1.5.2\n",
    "Run simulation on the medium layer shape below.\n",
    "\n",
    "Fill in the second row in the chart below. Does the `pJ/MACC` value change? In 1 or 2 sentences, explain why. \n",
    "\n",
    "\n",
    "**Answer**\n",
    "\n",
    "The pJ/MACC value does change. It is a little bit lower for the medium layer because the system is more capable of data reuse. Sometimes having larger activations can enable more reuse."
   ]
  },
  {
   "cell_type": "code",
   "execution_count": null,
   "metadata": {},
   "outputs": [],
   "source": [
    "medium_layer_stats, medium_layer_mapping = run_timeloop_model(\n",
    "    ConfigRegistry.SINGLE_PE_ARCH, ConfigRegistry.SINGLE_PE_COMPONENTS_DIR,\n",
    "    ConfigRegistry.SINGLE_PE_MAP,\n",
    "    ConfigRegistry.MED_LAYER_PROB\n",
    ")\n",
    "print(medium_layer_stats)"
   ]
  },
  {
   "cell_type": "markdown",
   "metadata": {},
   "source": [
    "3. What's the benefit of allowing a factor of 0, e.g., R=0, in mapping specification (*hint: we used the same `SINGLE_PE_MAP` for 2 different layer shapes*)?\n",
    "\n",
    "\n",
    "**Answer**\n",
    "\n",
    "By allowing for a factor of zero in the mapping speicfications we can accommodate different layer shapes. We make sure that there are no imcomplete partial sums.\n",
    "   "
   ]
  },
  {
   "cell_type": "code",
   "execution_count": 5,
   "metadata": {
    "pycharm": {
     "is_executing": false
    }
   },
   "outputs": [
    {
     "name": "stdout",
     "output_type": "stream",
     "text": [
      "layer shape     number of cycles    mac energy total (pJ)    scratchpad total energy (pJ)    DRAM total energy (pJ)    pJ/MACC\n",
      " small_layer        921600                3018240                     16633.04                     358203392         397.850  \n",
      "medium_layer       8294400               27164160                     16633.04                    3186081792         393.252  \n"
     ]
    }
   ],
   "source": [
    "# the Question 1.5.1 and 1.5.2 chart\n",
    "d = {'layer shape': ['small_layer', 'medium_layer'],\n",
    "     '  number of cycles': [921600, 8294400],                # fill in your answer here\n",
    "     '  mac energy total (pJ)': [3018240, 27164160],           # fill in your answer here\n",
    "     '  scratchpad total energy (pJ)': [16633.04, 16633.04],    # fill in your answer here  \n",
    "     '  DRAM total energy (pJ)':  [358203392, 3186081792],         # fill in your answer here  # hint: all datatypes\n",
    "     '  pJ/MACC':  [397.85, 393.252]                         # fill in your answer here\n",
    "    }\n",
    "df = pd.DataFrame(data=d)\n",
    "print(df.to_string(index=False, justify='center'))"
   ]
  },
  {
   "cell_type": "markdown",
   "metadata": {},
   "source": [
    "**Since now you have an understanding of the input and output files of the tools, we now would like you to write your own input files and feed it to the evaluation system.**\n",
    "\n",
    "\n",
    "### Question 1.6\n",
    "\n",
    "Many modern accelerator designs integrate address generators into their storages. The address generator is responsible for generating a sequence of read and write addresses for the memory, *i.e.,* for each read and write, the address is generated locally by the address generator. Typically, the address generator can be represented as an adder.\n",
    "\n",
    "In this question, we would like you to update the compound component definition for the scratchpad to reflect the existence of such an additional address generator. To be specific:\n",
    "\n",
    "    1. name of the address generator: address_generator\n",
    "    2. class of the address generator: intadder\n",
    "    3. attributes associated with the address generator: datawidth (hint: log2 function can be used), technology, latency\n",
    "    4. you also need to specify the role your address generator plays when the storage is read and written\n",
    "\n",
    "Inspect the `SINGLE_PE_AG_COMPONENT_SMART_STORAGE` configuration and use the widget below to apply your updates...\n",
    "\n",
    "**Note**: running the cell with the widget *resets* the widget. Changes to the widget are applied automatically, so just run the next cell.\n",
    "\n",
    "#### 1.6.1\n",
    "After you have updated your architecture description, naviagte to the desgins root folder and run Accelergy (the command cell below). Examine the outputs and fill in the chart below. \n",
    "\n",
    "#### 1.6.2\n",
    "Without rerunning Timeloop simulation for the `SMALL_LAYER_PROB` workload, can you infer from the ERT how much more energy will the local scrachpad consume? In 1 or 2 sentences, explain why.\n",
    "\n",
    "\n",
    "**Answer**\n",
    "Yes, you can infer from the ERT by seeing how much energy the local scratchpad consumes for each action and multiply that by the number of times each action is undertaken.\n",
    "In other words, after you run the timeloop simulation, you know the read/write counts so you can mathematically integrate the new parts (i.e. address generator).\n",
    "We need to know the # of cycles.\n",
    "\n",
    "   \n",
    "\n",
    "#### 1.6.3\n",
    "If we have a huge workload and running simulations of it takes hours, how would using compound components help us when we perform design space exploration (*hint: can you avoid rerunning simulations when you change the details of a compound component*)?\n",
    "\n",
    "\n",
    "**Answer**\n",
    "Using compound components help us when we perform design space exploration. Basically, from 1.6.2 we know that you can infer from the ERT how much more energy the local scrachpad will consume. So if we have organized compound components, we can can simulate the energy for a subset of these individual components and from there move on to infer the total energy consumption of the entire system."
   ]
  },
  {
   "cell_type": "code",
   "execution_count": null,
   "metadata": {},
   "outputs": [],
   "source": [
    "show_config(ConfigRegistry.SINGLE_PE_AG_COMPONENT_SMART_STORAGE)"
   ]
  },
  {
   "cell_type": "code",
   "execution_count": null,
   "metadata": {},
   "outputs": [],
   "source": [
    "smart_storage_widget = \\\n",
    "    load_widget_config(ConfigRegistry.SINGLE_PE_AG_COMPONENT_SMART_STORAGE_WIDGET, title='Smart Storage')"
   ]
  },
  {
   "cell_type": "code",
   "execution_count": null,
   "metadata": {},
   "outputs": [],
   "source": [
    "print(show_config(smart_storage_widget.dump()))"
   ]
  },
  {
   "cell_type": "code",
   "execution_count": null,
   "metadata": {
    "scrolled": false
   },
   "outputs": [],
   "source": [
    "single_pe_ag_accelergy_result = run_accelergy(ConfigRegistry.SINGLE_PE_AG_ARCH,\n",
    "                                              ConfigRegistry.SINGLE_PE_AG_COMPONENT_MAC_COMPUTE,\n",
    "                                              ConfigRegistry.SINGLE_PE_AG_COMPONENT_REG_STORAGE,\n",
    "                                              smart_storage_widget.dump())\n",
    "print(single_pe_ag_accelergy_result.ert_verbose)"
   ]
  },
  {
   "cell_type": "code",
   "execution_count": 6,
   "metadata": {
    "pycharm": {
     "is_executing": false
    }
   },
   "outputs": [
    {
     "name": "stdout",
     "output_type": "stream",
     "text": [
      " read energy of the scratchpad (pJ)  write energy of the scratchpad (pJ)  address generation energy (pJ)\n",
      "              0.25297                             0.25297                             0.5474            \n"
     ]
    }
   ],
   "source": [
    "# Question 1.6 chart\n",
    "d = {'read energy of the scratchpad (pJ)': [0.25297],  # fill in your answer here\n",
    "     'write energy of the scratchpad (pJ)': [0.25297], # fill in your answer here\n",
    "     'address generation energy (pJ)': [0.5474]       # add read and write (2*0.02737)\n",
    "    }\n",
    "df = pd.DataFrame(data=d)\n",
    "print(df.to_string(index=False, justify='center'))"
   ]
  },
  {
   "cell_type": "markdown",
   "metadata": {},
   "source": [
    "### Question 1.7\n",
    "So far, we have been focusing on studying the dataflow described in the provided loop next above. In this question, we would like you to update the mapping to represent a new loop nest shown below. \n",
    "\n",
    "Please set the bounds in the `SINGLE_PE_OS_MAP` mapping according to the layer shape described in `SMALL_LAYER_PROB`  (**note that some of the inner bounds are set for you**) and **only keep outputs inside the scratchpad**.\n",
    "\n",
    "After you have updated the mapping, run `timeloop-model` (run the command cell below). Please fill in the chart below:"
   ]
  },
  {
   "cell_type": "markdown",
   "metadata": {},
   "source": [
    "<div class=\"row\">\n",
    "  <div class=\"column\">\n",
    "    <img align=\"center\" src=\"designs/singlePE_os/figures/PE_loopnest.png\" alt=\"PE Architecture\" style=\"margin:0px 0px 70px 70px; width:50%\">\n",
    "  </div>\n",
    "</div>"
   ]
  },
  {
   "cell_type": "code",
   "execution_count": null,
   "metadata": {},
   "outputs": [],
   "source": [
    "show_config(ConfigRegistry.SMALL_LAYER_PROB)"
   ]
  },
  {
   "cell_type": "markdown",
   "metadata": {},
   "source": [
    "**Using the widget to update the mapping**\n",
    "\n",
    "First, run the widget and the following cell. Inspect the generated Timeloop mapping.\n",
    "\n",
    "In the widget below, \"temp.\" means temporal and the numbers of each dimension is the loop bound in the for loop for that dimension. Permutation is the order of the loops from inner to outer. Bypass and keep are as described in Q1.4. You can also see the mapping for the registers (e.g., the `output_activation_reg`) as an example.\n",
    "\n",
    "After filling out the widget below, run the next cell to see its effect on the Timeloop mapping."
   ]
  },
  {
   "cell_type": "code",
   "execution_count": null,
   "metadata": {
    "scrolled": false
   },
   "outputs": [],
   "source": [
    "os_map_widget = \\\n",
    "    load_widget_config(ConfigRegistry.SINGLE_PE_OS_MAP_WIDGET)"
   ]
  },
  {
   "cell_type": "code",
   "execution_count": null,
   "metadata": {},
   "outputs": [],
   "source": [
    "# Nothing to change here! This just loads the configuration from the widget above.\n",
    "os_map = configure_mapping(os_map_widget.dump(),\n",
    "                           ConfigRegistry.SINGLE_PE_OS_MAP_TEMPLATE,\n",
    "                           {'dram_t_c': 0,\n",
    "                            'dram_t_m': 0,\n",
    "                            'dram_t_n': 0,\n",
    "                            'dram_t_r': 0,\n",
    "                            'dram_t_s': 0,\n",
    "                            'dram_t_p': 0,\n",
    "                            'dram_t_q': 0,\n",
    "                            'dram_permutation': None,\n",
    "                            'spad_t_c': 0,\n",
    "                            'spad_t_m': 0,\n",
    "                            'spad_t_n': 0,\n",
    "                            'spad_t_r': 0,\n",
    "                            'spad_t_s': 0,\n",
    "                            'spad_t_p': 0,\n",
    "                            'spad_t_q': 0,\n",
    "                            'spad_permutation': None,\n",
    "                            'spad_bypass': None,\n",
    "                            'spad_keep': None})\n",
    "print(os_map)"
   ]
  },
  {
   "cell_type": "code",
   "execution_count": null,
   "metadata": {},
   "outputs": [],
   "source": [
    "single_pe_os_accelergy_result = run_accelergy(ConfigRegistry.SINGLE_PE_OS_ARCH,\n",
    "                                              ConfigRegistry.SINGLE_PE_OS_COMPONENTS_DIR)\n",
    "single_pe_os_stats, single_pe_os_map = run_timeloop_model(\n",
    "    ConfigRegistry.SINGLE_PE_OS_ARCH, ConfigRegistry.SINGLE_PE_OS_COMPONENTS_DIR,\n",
    "    single_pe_os_accelergy_result.art,\n",
    "    single_pe_os_accelergy_result.ert,\n",
    "    os_map,\n",
    "    ConfigRegistry.SMALL_LAYER_PROB\n",
    ")\n",
    "print(single_pe_os_stats)"
   ]
  },
  {
   "cell_type": "code",
   "execution_count": 7,
   "metadata": {
    "pycharm": {
     "is_executing": false
    }
   },
   "outputs": [
    {
     "name": "stdout",
     "output_type": "stream",
     "text": [
      "layer shape  number of cycles  mac Energy  scratchpad Energy (pJ)  DRAM Energy (pJ)  pJ/MAC\n",
      "small_layer       921600        3018240           222395.6            261734400      293.47\n"
     ]
    }
   ],
   "source": [
    "# the Question 1.7 chart\n",
    "d = {'layer shape': ['small_layer'],    \n",
    "     'number of cycles': [921600],          # fill in your answer here\n",
    "     'mac Energy':  [3018240],               # fill in your answer here\n",
    "     'scratchpad Energy (pJ)': [222395.6],    # fill in your answer here\n",
    "     'DRAM Energy (pJ)': [261734400],          # fill in your answer here\n",
    "     'pJ/MAC':[293.47]                      # fill in your answer here\n",
    "    }\n",
    "df = pd.DataFrame(data=d)\n",
    "print(df.to_string(index=False, justify='center'))"
   ]
  }
 ],
 "metadata": {
  "kernelspec": {
   "display_name": "Python 3 (ipykernel)",
   "language": "python",
   "name": "python3"
  },
  "language_info": {
   "codemirror_mode": {
    "name": "ipython",
    "version": 3
   },
   "file_extension": ".py",
   "mimetype": "text/x-python",
   "name": "python",
   "nbconvert_exporter": "python",
   "pygments_lexer": "ipython3",
   "version": "3.8.10"
  },
  "pycharm": {
   "stem_cell": {
    "cell_type": "raw",
    "metadata": {
     "collapsed": false
    },
    "source": []
   }
  }
 },
 "nbformat": 4,
 "nbformat_minor": 2
}

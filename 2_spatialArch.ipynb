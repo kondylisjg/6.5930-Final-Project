{
 "cells": [
  {
   "cell_type": "markdown",
   "metadata": {},
   "source": [
    "# Your name: Joanna Kondylis"
   ]
  },
  {
   "cell_type": "code",
   "execution_count": 1,
   "metadata": {
    "scrolled": true
   },
   "outputs": [],
   "source": [
    "import pandas as pd\n",
    "import numpy as np\n",
    "from loaders import *"
   ]
  },
  {
   "cell_type": "markdown",
   "metadata": {},
   "source": [
    "## Part 2: Full System (PE Array, Global Buffer, NoC) Modeling\n",
    "Now that you are familiar with the simple PE setup, let’s look at a full system as shown in the figure below. This design is composed of two levels of on-chip storage --- the global buffer and the local scratchpads in each PE as described in part 1. Each datatype is sent via a network from the global buffer to the PE array, and there are inter-PE networks that are capable of sending various data types within the array. We provide you with the loop nest of this design in the figure below. \n",
    "\n",
    "<br>\n",
    "<div class=\"row\">\n",
    "  <div class=\"column\">\n",
    "    <img align=\"left\" src=\"designs/system_manual/figures/system_arch.png\" alt=\"Full System  Architecture Diagram\" style=\"margin:50px 0px 0px 50px; width:40%\">\n",
    "  </div>\n",
    "  <div class=\"column\">\n",
    "    <img  align=\"left\"  src=\"designs/system_manual/figures/system_loopnest.png\" alt=\"System Loopnest\" style=\"width:50%\">\n",
    "  </div>\n",
    "</div>"
   ]
  },
  {
   "cell_type": "markdown",
   "metadata": {},
   "source": [
    "## Question 2  Manual Exploration of the Mapspace"
   ]
  },
  {
   "attachments": {},
   "cell_type": "markdown",
   "metadata": {},
   "source": [
    "### Question 2.1\n",
    "You are provided with a PE array that has 16 PEs. Assume you can design different architectures and associated mappings for every layer shape (i.e. both architecture yaml and mapping yaml can change across layer shapes). \n",
    "\n",
    "In specific, you can select the height and width of the PE array as long as the total number of PEs equal to 16, while keeping other architectural attributes the same.\n",
    "\n",
    "#### 2.1.1\n",
    "Please examine the provided architecture descriptions for system_1x16, and set the parameters for 2x8 and 4x4 to create an architecture description that has the same buffer sizes and a PE array of physical dimension 2x8 and 4x4. Which hardware attributes do you need to change? (**Hint**: see the widgets below and inspect what effects they have on the architecture specification).\n",
    "\n",
    "\n",
    "**Answer**"
   ]
  },
  {
   "cell_type": "code",
   "execution_count": null,
   "metadata": {},
   "outputs": [],
   "source": [
    "show_config(ConfigRegistry.SYSTEM_1x16_ARCH)"
   ]
  },
  {
   "cell_type": "code",
   "execution_count": null,
   "metadata": {},
   "outputs": [],
   "source": [
    "sys_2x8_widget = load_widget_config(ConfigRegistry.SYSTEM_2x8_ARCH_WIDGET, title='System 2x8')"
   ]
  },
  {
   "cell_type": "code",
   "execution_count": null,
   "metadata": {},
   "outputs": [],
   "source": [
    "print(sys_2x8_widget.dump())"
   ]
  },
  {
   "cell_type": "code",
   "execution_count": null,
   "metadata": {},
   "outputs": [],
   "source": [
    "sys_4x4_widget = load_widget_config(ConfigRegistry.SYSTEM_4x4_ARCH_WIDGET, title='System 4x4')"
   ]
  },
  {
   "cell_type": "code",
   "execution_count": null,
   "metadata": {},
   "outputs": [],
   "source": [
    "print(sys_4x4_widget.dump())"
   ]
  },
  {
   "attachments": {},
   "cell_type": "markdown",
   "metadata": {},
   "source": [
    "#### 2.1.2\n",
    "In 1 or 2 sentences, explain why running the same workload on architectures with different physical PE array dimensions might result in different performance (*e.g.,* energy, throughput)?\n",
    "\n",
    "\n",
    "**Answer**"
   ]
  },
  {
   "cell_type": "markdown",
   "metadata": {},
   "source": [
    "### Question 2.2\n",
    "In this question, we would like you to find the best architecture (among the three architectures in question 2.1) and the associated mapping that has the highest throughput (minimizes the number of cycles) for `ConfigRegistry.TINY_LAYER_PROB`. If two architectures result in the same throughput, choose the one that's less energy consuming.\n",
    "  \n",
    "<font color=blue> <b>Your mapping has to agree with the loop nest provided above. To simplify your search, please further assume that: </b>\n",
    "    \n",
    "   - input channels can only be spatially mapped to the rows of the PE array and output channels can only be spatially mapped to the columns of the PE array.\n",
    "    \n",
    "   - PE scrachpads only store filter weights \n",
    "    \n",
    "</font>\n",
    "\n",
    "A sample mapping for `system_arch_1x16` is provided in `ConfigRegistry.SYSTEM_MANUAL_MAP`. You can change the mapping by tweaking the widgets below (see Q1.4 and Q1.7 for a reminder on Timeloop mapping conventions).\n",
    "\n",
    "\n",
    "Please fill in the table below to provide your answer."
   ]
  },
  {
   "cell_type": "code",
   "execution_count": null,
   "metadata": {},
   "outputs": [],
   "source": [
    "show_config(ConfigRegistry.TINY_LAYER_PROB)"
   ]
  },
  {
   "cell_type": "code",
   "execution_count": null,
   "metadata": {},
   "outputs": [],
   "source": [
    "show_config(ConfigRegistry.SYSTEM_MANUAL_MAP)"
   ]
  },
  {
   "cell_type": "code",
   "execution_count": null,
   "metadata": {
    "scrolled": true
   },
   "outputs": [],
   "source": [
    "sys_1x16_map_widget = load_widget_config(ConfigRegistry.SYSTEM_MANUAL_MAP_WIDGET, title='Mapping Options')"
   ]
  },
  {
   "cell_type": "code",
   "execution_count": null,
   "metadata": {},
   "outputs": [],
   "source": [
    "# Nothing to change here!\n",
    "sys_1x16_mapping = configure_mapping(sys_1x16_map_widget.dump(),\n",
    "                                     ConfigRegistry.SYSTEM_MANUAL_MAP_TEMPLATE,\n",
    "                                     {'dram_t_c': None,\n",
    "                                      'dram_t_m': None,\n",
    "                                      'dram_t_n': None,\n",
    "                                      'gbuf_t_c': None,\n",
    "                                      'gbuf_t_m': None,\n",
    "                                      'gbuf_t_n': None,\n",
    "                                      'gbuf_s_m': None,\n",
    "                                      'gbuf_s_c': None,\n",
    "                                      'spad_t_n': None})\n",
    "print(sys_1x16_mapping)"
   ]
  },
  {
   "cell_type": "code",
   "execution_count": null,
   "metadata": {},
   "outputs": [],
   "source": [
    "sys_1x16_stats, sys_1x16_loops = run_timeloop_model(\n",
    "    ConfigRegistry.SYSTEM_1x16_ARCH, ConfigRegistry.SYSTEM_COMPONENTS_DIR,\n",
    "    sys_1x16_mapping,\n",
    "    ConfigRegistry.TINY_LAYER_PROB\n",
    ")\n",
    "print(sys_1x16_stats)"
   ]
  },
  {
   "cell_type": "code",
   "execution_count": null,
   "metadata": {
    "scrolled": true
   },
   "outputs": [],
   "source": [
    "sys_2x8_map_widget = load_widget_config(ConfigRegistry.SYSTEM_MANUAL_MAP_WIDGET, title='Mapping Options')"
   ]
  },
  {
   "cell_type": "code",
   "execution_count": null,
   "metadata": {},
   "outputs": [],
   "source": [
    "# Nothing to change here!\n",
    "sys_2x8_mapping = configure_mapping(sys_2x8_map_widget.dump(),\n",
    "                                    ConfigRegistry.SYSTEM_MANUAL_MAP_TEMPLATE,\n",
    "                                    {'dram_t_c': None,\n",
    "                                     'dram_t_m': None,\n",
    "                                     'dram_t_n': None,\n",
    "                                     'gbuf_t_c': None,\n",
    "                                     'gbuf_t_m': None,\n",
    "                                     'gbuf_t_n': None,\n",
    "                                     'gbuf_s_m': None,\n",
    "                                     'gbuf_s_c': None,\n",
    "                                     'spad_t_n': None})\n",
    "sys_2x8_stats, sys_2x8_loops = run_timeloop_model(\n",
    "    sys_2x8_widget.dump(), ConfigRegistry.SYSTEM_COMPONENTS_DIR,\n",
    "    sys_2x8_mapping,\n",
    "    ConfigRegistry.TINY_LAYER_PROB\n",
    ")\n",
    "print(sys_2x8_stats)"
   ]
  },
  {
   "cell_type": "code",
   "execution_count": null,
   "metadata": {},
   "outputs": [],
   "source": [
    "sys_4x4_map_widget = load_widget_config(ConfigRegistry.SYSTEM_MANUAL_MAP_WIDGET, title='Mapping Options')"
   ]
  },
  {
   "cell_type": "code",
   "execution_count": null,
   "metadata": {},
   "outputs": [],
   "source": [
    "# Nothing to change here!\n",
    "sys_4x4_mapping = configure_mapping(sys_4x4_map_widget.dump(),\n",
    "                                    ConfigRegistry.SYSTEM_MANUAL_MAP_TEMPLATE,\n",
    "                                    {'dram_t_c': None,\n",
    "                                     'dram_t_m': None,\n",
    "                                     'dram_t_n': None,\n",
    "                                     'gbuf_t_c': None,\n",
    "                                     'gbuf_t_m': None,\n",
    "                                     'gbuf_t_n': None,\n",
    "                                     'gbuf_s_m': None,\n",
    "                                     'gbuf_s_c': None,\n",
    "                                     'spad_t_n': None})\n",
    "sys_4x4_stats, sys_4x4_loops = run_timeloop_model(\n",
    "    sys_4x4_widget.dump(), ConfigRegistry.SYSTEM_COMPONENTS_DIR,\n",
    "    sys_4x4_mapping,\n",
    "    ConfigRegistry.TINY_LAYER_PROB\n",
    ")\n",
    "print(sys_4x4_stats)"
   ]
  },
  {
   "cell_type": "markdown",
   "metadata": {},
   "source": [
    "|Shape \t|Mapping \t|Cycles \t|Total Energy (uJ)|\n",
    "|-------|-----------|-----------|----|\n",
    "|1x16 \t|Example \t| \t129600|4.36|\n",
    "|2x8 \t|Example \t| \t129600|4.36|\n",
    "|4x4 \t|Example \t| \t129600|4.36|\n",
    "|1x16 \t|Optimized \t| \t    16200|2.83|\n",
    "|2x8 \t|Optimized \t| \t    8100|2.64|\n",
    "|4x4 \t|Optimized \t| \t    10800|3.05|\n"
   ]
  },
  {
   "cell_type": "code",
   "execution_count": 2,
   "metadata": {},
   "outputs": [
    {
     "name": "stdout",
     "output_type": "stream",
     "text": [
      " problem   architecture name  number of cycles  total energy (uJ)  M3  N3  C3  M2  N2  C2  M1  C1  N0\n",
      "tiny_layer        2x8               8100              2.64         2   2   9   1   1   1   8   2   1 \n"
     ]
    }
   ],
   "source": [
    "# the Question 2.2 chart\n",
    "d = {'problem': ['tiny_layer'],  # fill in your answer here\n",
    "     'architecture name': ['2x8'], # fill in your answer here\n",
    "     'number of cycles': [8100],   # fill in your answer here\n",
    "     'total energy (uJ)': [2.64],  # fill in your answer here\n",
    "     'M3': [2],\n",
    "     'N3': [2],\n",
    "     'C3': [9],\n",
    "     'M2': [1],\n",
    "     'N2': [1],\n",
    "     'C2': [1],\n",
    "     'M1': [8],\n",
    "     'C1': [2],\n",
    "     'N0': [1]\n",
    "    }\n",
    "df = pd.DataFrame(data=d)\n",
    "print(df.to_string(index=False, justify='center'))"
   ]
  },
  {
   "cell_type": "markdown",
   "metadata": {},
   "source": [
    "### Question 3 Mapspace Exploration with Timeloop"
   ]
  },
  {
   "cell_type": "markdown",
   "metadata": {},
   "source": [
    "Mananully generating the best mapping for each architecture and layer shape is rather time-consuming, even if the search is performed under a tightly constrained map sapace, *e.g.,* the one in question 2.2. Therefore, timeloop does provide the automatic mapping space search functinality when appropriate map space constriants are given.\n",
    "\n",
    "To perform an automatic mapping space search, you need to provide a mapspace constraint as an input. A mapspace constraint specifies the limitations imposed by your dataflow or hardware structures. An example mapping space constraint is shown below (`EXAMPLE_CONSTRAINTS`). To automatically search the mapspace with the constraints file, you should run the `run_timeloop_mapper` command.\n",
    "\n",
    "*The search should take less than 5 minutes to finish. If you are running this command from the shell instead of running the below cell, you can also temrinate it whenever you want by pressing Ctrl+C (you will need to wait for timeloop to finish the remainig computations after you send the signal; the terminated threads will have a dash next to its id).*"
   ]
  },
  {
   "cell_type": "code",
   "execution_count": null,
   "metadata": {},
   "outputs": [],
   "source": [
    "show_config(ConfigRegistry.EXAMPLE_CONSTRAINTS)"
   ]
  },
  {
   "cell_type": "code",
   "execution_count": null,
   "metadata": {},
   "outputs": [],
   "source": [
    "sys_1x16_mapper_stats, sys_1x16_mapper_loops = run_timeloop_mapper(\n",
    "    ConfigRegistry.SYSTEM_1x16_ARCH, ConfigRegistry.SYSTEM_COMPONENTS_DIR,\n",
    "    ConfigRegistry.TINY_LAYER_PROB,\n",
    "    ConfigRegistry.EXAMPLE_CONSTRAINTS, ConfigRegistry.MAPPER\n",
    ")"
   ]
  },
  {
   "cell_type": "code",
   "execution_count": null,
   "metadata": {},
   "outputs": [],
   "source": [
    "# Stats of the best mappping found by the mapper.\n",
    "print(sys_1x16_mapper_stats)"
   ]
  },
  {
   "cell_type": "code",
   "execution_count": null,
   "metadata": {},
   "outputs": [],
   "source": [
    "# Loop nest of the best mapping found by the mapper.\n",
    "print(sys_1x16_mapper_loops)"
   ]
  },
  {
   "attachments": {},
   "cell_type": "markdown",
   "metadata": {},
   "source": [
    "### Question 3.1\n",
    "\n",
    "In this question, we have provided you with a much more relaxed constraint `RELAXED_CONSTRAINT`. \n",
    "\n",
    "#### 3.1.1\n",
    "    \n",
    "Please examine the constraints, and list two additional relaxations on the mapspace constraints in `RELAXED_CONSTRAINTS` comparing to `EXAMPLE_CONSTRAINTS` (*Note: there are more than two relaxations, but you only need to list two*)\n",
    " \n",
    "\n",
    "**Answer**\n"
   ]
  },
  {
   "cell_type": "code",
   "execution_count": null,
   "metadata": {},
   "outputs": [],
   "source": [
    "show_config(ConfigRegistry.RELAXED_CONSTRAINTS)"
   ]
  },
  {
   "cell_type": "markdown",
   "metadata": {},
   "source": [
    "#### 3.1.2\n",
    "Below, we run the mapper on all three architectures (1x16, 2x8, 4x4) on all three workloads (tiny, depth-wise, point-wise). For each workload, find the architecture that has the highest throughput by inspecting `all_stats`. If two architectures result in the same throughput, choose the one that's less energy consuming. Please fill in the chart below. "
   ]
  },
  {
   "cell_type": "code",
   "execution_count": null,
   "metadata": {},
   "outputs": [],
   "source": [
    "# Nothing to change here!\n",
    "architectures = [(ConfigRegistry.SYSTEM_1x16_ARCH, '1x16'),\n",
    "                 (sys_2x8_widget.dump(), '2x8'),\n",
    "                 (sys_4x4_widget.dump(), '4x4')]\n",
    "workloads = [(ConfigRegistry.TINY_LAYER_PROB, 'tiny'),\n",
    "             (ConfigRegistry.DEPTHWISE_LAYER_PROB, 'depthwise'),\n",
    "             (ConfigRegistry.POINTWISE_LAYER_PROB, 'pointwise')]\n",
    "\n",
    "all_stats = {'tiny': {}, 'depthwise': {}, 'pointwise': {}}\n",
    "all_loops = {'tiny': {}, 'depthwise': {}, 'pointwise': {}}\n",
    "\n",
    "for arch, arch_name in architectures:\n",
    "    for workload, workload_name in workloads:\n",
    "        stats, loops = run_timeloop_mapper(\n",
    "            arch, ConfigRegistry.SYSTEM_COMPONENTS_DIR,\n",
    "            ConfigRegistry.RELAXED_CONSTRAINTS, ConfigRegistry.MAPPER,\n",
    "            workload\n",
    "        )\n",
    "        all_stats[workload_name][arch_name] = stats\n",
    "        all_loops[workload_name][arch_name] = loops"
   ]
  },
  {
   "cell_type": "code",
   "execution_count": null,
   "metadata": {},
   "outputs": [],
   "source": [
    "# Check your results here. Rerunning the last cell will take a while\n",
    "print(all_stats['tiny']['1x16'])"
   ]
  },
  {
   "cell_type": "code",
   "execution_count": 3,
   "metadata": {},
   "outputs": [
    {
     "name": "stdout",
     "output_type": "stream",
     "text": [
      " problem   architecture name  number of cycles  total energy (uJ)\n",
      "tiny_layer         2x8              8100              2.64       \n",
      "depth_wise        1x16              2700              1.02       \n",
      "point_wise         4x4               750              0.39       \n"
     ]
    }
   ],
   "source": [
    "# the Question 3.1.2 chart\n",
    "d = {'problem': ['tiny_layer', 'depth_wise', 'point_wise'],  \n",
    "     'architecture name': [ '2x8', '1x16', '4x4'], # fill in your answer here\n",
    "     'number of cycles': [8100 , 2700, 750],    # fill in your answer here\n",
    "     'total energy (uJ)': [2.64 , 1.02, 0.39],   # fill in your answer here\n",
    "    }\n",
    "df = pd.DataFrame(data=d)\n",
    "print(df.to_string(index=False, justify='center'))"
   ]
  },
  {
   "cell_type": "markdown",
   "metadata": {},
   "source": [
    "### Question 3.2\n",
    "Your circuit designer has told you that it is too expensive to have a separate architecture for each layer shape. You must now have a fixed architecture (i.e. fixed height and width of the PE array). Based on this specific architecture, you can change the mapping according to different layer shapes. \n",
    "\n",
    "What is the best architecture that achieves the **highest average throughput** of those three layer shapes among all the architectures explored in question 3.1? Please fill in the chart below.\n",
    "\n"
   ]
  },
  {
   "cell_type": "code",
   "execution_count": 4,
   "metadata": {},
   "outputs": [
    {
     "name": "stdout",
     "output_type": "stream",
     "text": [
      " problem   architecture name  number of cycles  total energy (uJ)\n",
      "tiny_layer        2x8               8100              2.64       \n",
      "depth_wise        2x8               4050              1.04       \n",
      "point_wise        2x8               1200              0.40       \n"
     ]
    }
   ],
   "source": [
    "# the Question 3.2 chart\n",
    "d = {'problem': ['tiny_layer', 'depth_wise', 'point_wise'],  \n",
    "     'architecture name': [ '2x8', '2x8', '2x8'], # fill in your answer here\n",
    "     'number of cycles': [ 8100, 4050, 1200],    # fill in your answer here\n",
    "     'total energy (uJ)': [ 2.64, 1.04, 0.4],   # fill in your answer here\n",
    "    }\n",
    "df = pd.DataFrame(data=d)\n",
    "print(df.to_string(index=False, justify='center'))"
   ]
  },
  {
   "cell_type": "markdown",
   "metadata": {},
   "source": [
    "## Question 4 Architectures with New Technologies"
   ]
  },
  {
   "cell_type": "markdown",
   "metadata": {},
   "source": [
    "So far, we have been looking at conventional architectures based on digital VLSI designs. There are also many DNN accelerator designs that are based on emerging technologies, such as optical DNN accelerators and processing-in-memory (PIM) DNN accelerators. In this question, we are going to evaluate a PIM DNN accelerator design. The PIM design can be found at `ConfigRegistry.PIM_ARCH` and `ConfigRegistry.PIM_COMPONENTS_DIR`."
   ]
  },
  {
   "cell_type": "markdown",
   "metadata": {},
   "source": [
    "### Question 4.1 \n",
    "Please take a look at the architecture description and the compound components descriptions at `ConfigRegistry.PIM_ARCH`. You will realize the compound components are much more complicated than the ones we presented before. Examine the `ConfigRegistry.PIM_COMPONENTS_DIR` class YAML definition and the hierachical tree description below. What are the missing subcomponent names? We have provided one subcomponent name for you, please follow the convention and provide you anwser in the cell below.\n",
    "\n",
    "*Hint: to find the definition of a sub-compound-component, you need to find its class definition in another file stored in the component folder*"
   ]
  },
  {
   "cell_type": "code",
   "execution_count": null,
   "metadata": {},
   "outputs": [],
   "source": [
    "show_config(ConfigRegistry.PIM_ARCH)"
   ]
  },
  {
   "cell_type": "code",
   "execution_count": null,
   "metadata": {},
   "outputs": [],
   "source": [
    "show_config(ConfigRegistry.PIM_COMPONENTS_DIR)"
   ]
  },
  {
   "cell_type": "markdown",
   "metadata": {},
   "source": [
    "<img align=\"left\" src=\"designs/PIM/figures/simplemulticast_tree.png\" alt=\"Full System  Architecture Diagram\" style=\"margin:0px 0px 0px 0px; width:70%\">"
   ]
  },
  {
   "attachments": {},
   "cell_type": "markdown",
   "metadata": {},
   "source": [
    "\n"
   ]
  },
  {
   "cell_type": "markdown",
   "metadata": {},
   "source": [
    "### Question 4.2\n",
    "#### 4.2.1\n",
    "\n",
    "Run `run_accelergy`. Recall that this command generates the energy and area characterizations of the architecture. Examine the output files, and fill in the table below\n",
    "\n",
    "*Hint: mac compute energy should not be a large number, e.g., >100. If so, you probably restarted/recreated the docker container and therefore erased the PIM plug-in path added by the \n",
    "accelergyTables command in the readme*. Please rerun:\n",
    "\n",
    "```\n",
    "accelergyTables -r /home/workspace/lab4/PIM_estimation_tables\n",
    "```\n",
    "  "
   ]
  },
  {
   "cell_type": "code",
   "execution_count": null,
   "metadata": {
    "scrolled": false
   },
   "outputs": [],
   "source": [
    "# If the following code doesn't run, uncomment and run this bash command\n",
    "# !accelergyTables -r /home/workspace/lab4/PIM_estimation_tables\n",
    "\n",
    "pim_accelergy_result = run_accelergy(\n",
    "    ConfigRegistry.PIM_ARCH,\n",
    "    ConfigRegistry.PIM_COMPONENTS_DIR\n",
    ")\n",
    "print(pim_accelergy_result.ert_verbose)"
   ]
  },
  {
   "cell_type": "code",
   "execution_count": 5,
   "metadata": {},
   "outputs": [
    {
     "name": "stdout",
     "output_type": "stream",
     "text": [
      " scratchpad access energy (pJ)  mac compute energy (pJ)  D2A_NoC average energy (pJ)  A2D_NoC average energy (pJ)\n",
      "              0                        0.23424                     0.4224                     170.72768          \n"
     ]
    }
   ],
   "source": [
    "# the Question 4.2.1 chart\n",
    "d = {'scratchpad access energy (pJ)': [],   # fill in your answer here\n",
    "     'mac compute energy (pJ)': [0],         # fill in your answer here  \n",
    "     'D2A_NoC average energy (pJ)': [0],     # fill in your answer here\n",
    "     'A2D_NoC average energy (pJ)': [],     # fill in your answer here\n",
    "    }\n",
    "df = pd.DataFrame(data=d)\n",
    "print(df.to_string(index=False, justify='center'))"
   ]
  },
  {
   "cell_type": "markdown",
   "metadata": {},
   "source": [
    "#### 4.2.2\n",
    "\n",
    "Our PIM accelerator program the weights in the memory cells (i.e.,Each PE is resposible for storing 1 16-bit weight value in its scratchpad) and does not reload weights during the run of a layer (reflected in the constraints). Calculate the number of PEs needed to store all the weights for `TINY_LAYER_PROB`. \n",
    "\n",
    "\n",
    "**Answer**:\n",
    "\n",
    "Numper of PEs needed to store all the weights: 2592."
   ]
  },
  {
   "cell_type": "code",
   "execution_count": null,
   "metadata": {},
   "outputs": [],
   "source": [
    "show_config(ConfigRegistry.TINY_LAYER_PROB)"
   ]
  },
  {
   "attachments": {},
   "cell_type": "markdown",
   "metadata": {},
   "source": [
    "#### 4.2.3\n",
    "Run `run_timeloop_mapper`. Is timeloop able to find any mappings? If not, in 1 or 2 sentences, explain why. If yes, provide the number of cycles and total energy consumption for running the workload.\n",
    "\n",
    "\n",
    "**Answer**\n"
   ]
  },
  {
   "cell_type": "code",
   "execution_count": null,
   "metadata": {},
   "outputs": [],
   "source": [
    "pim_results = run_timeloop_mapper(\n",
    "    ConfigRegistry.PIM_ARCH,\n",
    "    ConfigRegistry.PIM_COMPONENTS_DIR,\n",
    "    pim_accelergy_result.art,\n",
    "    pim_accelergy_result.ert,\n",
    "    ConfigRegistry.PIM_CONSTRAINTS,\n",
    "    ConfigRegistry.PIM_MAPPER,\n",
    "    ConfigRegistry.TINY_LAYER_PROB\n",
    ")"
   ]
  },
  {
   "cell_type": "markdown",
   "metadata": {},
   "source": [
    "### Question 4.3\n",
    "\n",
    "Navigate to `designs/PIM_large`. \n",
    "\n",
    "In this folder, we provide you with an architecture with a larger PE array of size 144*18. \n",
    "\n",
    "#### 4.3.1\n",
    "Run `run_timeloop_mapper`. Is timeloop able to find any mappings? If not, in 1 or 2 sentences, explain why. If yes, provide the number of cycles and total energy consumption for running the workload.\n",
    "\n",
    "\n",
    "**Answer** Yes timeloop is now able to find mappings because there are enough PE's to load the weights with the larger array size of 2592 (144*18).\n",
    "\n",
    "Number of cycles: 50\n",
    "\n",
    "Total energy consumption: 0.57\n",
    "\n",
    "  "
   ]
  },
  {
   "cell_type": "code",
   "execution_count": null,
   "metadata": {},
   "outputs": [],
   "source": [
    "pim_accelergy_result = run_accelergy(\n",
    "    ConfigRegistry.PIM_LARGE_ARCH,\n",
    "    ConfigRegistry.PIM_LARGE_COMPONENTS_DIR\n",
    ")\n"
   ]
  },
  {
   "cell_type": "code",
   "execution_count": null,
   "metadata": {},
   "outputs": [],
   "source": [
    "pim_large_stats, pim_large_loops = run_timeloop_mapper(\n",
    "    ConfigRegistry.PIM_LARGE_ARCH,\n",
    "    ConfigRegistry.PIM_LARGE_COMPONENTS_DIR,\n",
    "    pim_accelergy_result.art,\n",
    "    pim_accelergy_result.ert,\n",
    "    ConfigRegistry.PIM_LARGE_CONSTRAINTS,\n",
    "    ConfigRegistry.PIM_LARGE_MAPPER,\n",
    "    ConfigRegistry.TINY_LAYER_PROB\n",
    ")"
   ]
  },
  {
   "cell_type": "markdown",
   "metadata": {},
   "source": [
    "#### 4.3.2\n",
    "Your circuit designer has invented a very low-power 8-bit ADC, which only consumes half of the energy per conversion. We call this type of ADC as `low_power_SAR` ADC. You decided to model a design with thie new `low_power_SAR` ADC unit integrated. Please perform the following updates and fill in the table below.\n",
    "\n",
    "\n",
    " - Update the `designs/PIM_large/arch/components/A2D_conversion_system.yaml` approriately to replace the old `SAR` ADC with the new `low_power_SAR` ADC.\n",
    " \n",
    " - Update the energy tables at `PIM_estimation_tables/32nm_data/data/ADC.csv` for the 8-bit `low_power_SAR` ADC used in this design.\n",
    " \n",
    " - Rerun `run_accelergy`.\n",
    "\n",
    "*Hint: mac compute energy should not be a large number, e.g., >100. If so, you probably restarted/recreated the docker container and therefore erased the PIM plug-in path added by the \n",
    "accelergyTables command in the readme*. Please rerun:\n",
    "\n",
    "```\n",
    "accelergyTables -r /home/workspace/lab4/PIM_estimation_tables\n",
    "```"
   ]
  },
  {
   "cell_type": "code",
   "execution_count": null,
   "metadata": {},
   "outputs": [],
   "source": [
    "# If the following code doesn't run, uncomment and run this bash command\n",
    "# !accelergyTables -r /home/workspace/lab4/PIM_estimation_tables\n",
    "\n",
    "print(pim_accelergy_result.ert_verbose)"
   ]
  },
  {
   "cell_type": "code",
   "execution_count": 6,
   "metadata": {},
   "outputs": [
    {
     "name": "stdout",
     "output_type": "stream",
     "text": [
      "\n",
      "== Static Hardware Properties ==\n",
      "scratchpad access energy   mac compute energy   D2A_NoC average energy   A2D_NoC average energy\n",
      "          0 pJ                0.23424 pJ             0.4224 pJ               138.72768 pJ      \n",
      "\n",
      "== Runtime Stats ==\n",
      " total cycles running tiny_layer   total energy running tiny_layer\n",
      "               50                             0.48 uJ             \n"
     ]
    }
   ],
   "source": [
    "# the Question 4.3.2 chart\n",
    "print('\\n== Static Hardware Properties ==')\n",
    "d = {'scratchpad access energy': [' pJ'],  # fill in your answer here\n",
    "     '  mac compute energy': [' pJ'],      # fill in your answer here\n",
    "     '  D2A_NoC average energy': [' pJ'],  # fill in your answer here\n",
    "     '  A2D_NoC average energy': [' pJ'],  # fill in your answer here\n",
    "    }\n",
    "df = pd.DataFrame(data=d)\n",
    "print(df.to_string(index=False, justify='center'))\n",
    "\n",
    "print('\\n== Runtime Stats ==')\n",
    "d = {'total cycles running tiny_layer':[],        # fill in your answer here\n",
    "     '  total energy running tiny_layer':[' uJ'] # fill in your answer here\n",
    "    }\n",
    "df = pd.DataFrame(data=d)\n",
    "print(df.to_string(index=False, justify='center'))"
   ]
  }
 ],
 "metadata": {
  "kernelspec": {
   "display_name": "Python 3 (ipykernel)",
   "language": "python",
   "name": "python3"
  },
  "language_info": {
   "codemirror_mode": {
    "name": "ipython",
    "version": 3
   },
   "file_extension": ".py",
   "mimetype": "text/x-python",
   "name": "python",
   "nbconvert_exporter": "python",
   "pygments_lexer": "ipython3",
   "version": "3.8.10"
  },
  "pycharm": {
   "stem_cell": {
    "cell_type": "raw",
    "metadata": {
     "collapsed": false
    },
    "source": []
   }
  }
 },
 "nbformat": 4,
 "nbformat_minor": 2
}
